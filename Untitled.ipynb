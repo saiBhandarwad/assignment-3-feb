{
 "cells": [
  {
   "cell_type": "code",
   "execution_count": null,
   "id": "a935408f-eb3c-4b81-aff1-a60901eea19e",
   "metadata": {},
   "outputs": [],
   "source": [
    "# Q1.ANS=>\n",
    "'''def keyword is used to create function '''\n",
    "\n",
    "def odd():\n",
    "    l=[i  for i in range(1,26) if i%2!=0]\n",
    "    return l\n",
    "odd()\n"
   ]
  },
  {
   "cell_type": "code",
   "execution_count": null,
   "id": "f9504cad-ae9e-4e51-a969-9f3a2ca1de13",
   "metadata": {},
   "outputs": [],
   "source": [
    "# Q2.ANS=>\n",
    "''' *args is used for pass the n number of non keyworded arguments or it is used to get multiple arguments from user and it returns values\n",
    "   in tuples ,\n",
    "   **kwargs is used to get multiple keyworded arguments in the form of variables (like a=2) and it returns values in dictionary the form \n",
    "   of key value pair'''\n",
    "\n",
    "\"\"\"We use *args and **kwargs as an argument when we are not sure about the number of arguments to pass in the functions.\"\"\"\n",
    "\n",
    "def add(*args):\n",
    "    sum = 0\n",
    "    \n",
    "    for i in args:\n",
    "        sum = sum + i\n",
    "\n",
    "    print(\"The sum of all arguments is: \",sum)\n",
    "\n",
    "add(1,2)\n",
    "add(1,2,3,4)\n",
    "\n",
    "def info(**kwargs):\n",
    "    for k,v in kwargs.items():\n",
    "        print({k:v})\n",
    "info(firstname=\"sai\",age=23, degree=\"BCA\")"
   ]
  },
  {
   "cell_type": "code",
   "execution_count": null,
   "id": "8226b8ce-7a81-4d44-a997-86e5516553b5",
   "metadata": {},
   "outputs": [],
   "source": [
    "# Q3.ANS=>\n",
    "\"\"\"Iterator in Python is an object that is used to iterate over iterable objects like lists, tuples, dicts, and sets. The iterator object is \n",
    "   initialized using the iter() method. It uses the next() method for iteration.\"\"\"\n",
    "l=[2, 4, 6, 8, 10, 12, 14, 16, 18, 20]\n",
    "l1=iter(l)\n",
    "for i in range(5):\n",
    "    print(next(l1))"
   ]
  },
  {
   "cell_type": "code",
   "execution_count": null,
   "id": "3e4cedb4-b0d8-4d5c-95dc-74545f507afc",
   "metadata": {},
   "outputs": [],
   "source": [
    "# Q4.ANS=>\n",
    "\"\"\"a function that, return an iterable generator object, instead of returning a single value it is a generator function\n",
    "   yield keyword is used to create a generator function.\n",
    "   a function that has a yield statement, when yield is encountered, the execution of the function stops and returns \n",
    "   an object of the generator to the function caller. \"\"\"\n",
    "def filter_odd(numbers):\n",
    "    for i in range(numbers):\n",
    "        if(i % 2 != 0):\n",
    "            yield i\n",
    "            \n",
    "\n",
    "odd_numbers = filter_odd(20)\n",
    "\n",
    "for i in odd_numbers:\n",
    "    print(i)"
   ]
  },
  {
   "cell_type": "code",
   "execution_count": null,
   "id": "499a035b-61f9-4d8d-8abf-ac066fb74643",
   "metadata": {},
   "outputs": [],
   "source": [
    "# Q5.ANS=>\n",
    "def getPrimes(n):\n",
    "    i = 2\n",
    "    while i < n :\n",
    "        prime = True # reset the `prime` variable before the inner loop\n",
    "        for a in range(2, i):\n",
    "            if i%a == 0:\n",
    "                prime = False\n",
    "                break\n",
    "        if prime:    \n",
    "            yield i\n",
    "        i += 1 # don't forget to advance `i`\n",
    "l=getPrimes(1000)\n",
    "for i in range(20):\n",
    "    print(next(l))"
   ]
  },
  {
   "cell_type": "code",
   "execution_count": null,
   "id": "cf1bf0c5-f3d1-4114-a8c5-74b3194a122a",
   "metadata": {},
   "outputs": [],
   "source": [
    "# Q6.ANS=>\n",
    "def fib(n):\n",
    "    counter=1\n",
    "    a,b=0,1\n",
    "    while counter<=10:\n",
    "        print(a)\n",
    "        c=a\n",
    "        a=b\n",
    "        b=b+c\n",
    "        counter+=1\n",
    "        \n",
    "fib(10)\n"
   ]
  },
  {
   "cell_type": "code",
   "execution_count": null,
   "id": "565313a9-705e-431d-ae06-8fe4172ca69b",
   "metadata": {},
   "outputs": [],
   "source": [
    "# Q7.ANS=>\n",
    "string=\"pwskills\"\n",
    "[i for i in string]"
   ]
  },
  {
   "cell_type": "code",
   "execution_count": null,
   "id": "b34d3dc1-dc35-42d8-9f31-28bdde0d9203",
   "metadata": {},
   "outputs": [],
   "source": [
    "# Q8.ANS=>\n",
    "n=int(input(\"Enter number:\"))\n",
    "temp=n\n",
    "rev=0\n",
    "while(n>0):\n",
    "    last_dig=n%10\n",
    "    rev=rev*10+last_dig\n",
    "    n=n//10 \n",
    "if(temp==rev):\n",
    "    print(\"The number is a palindrome!\")\n",
    "else:\n",
    "    print(\"The number isn't a palindrome!\")"
   ]
  },
  {
   "cell_type": "code",
   "execution_count": null,
   "id": "f618ceb8-d470-4a13-8631-f3370a14163c",
   "metadata": {},
   "outputs": [],
   "source": [
    "# Q9.ANS=>\n",
    "[i for i in range(100) if i%2!=0]"
   ]
  },
  {
   "cell_type": "code",
   "execution_count": null,
   "id": "63502513-8e78-4cbc-b31c-75d28a32a985",
   "metadata": {},
   "outputs": [],
   "source": []
  }
 ],
 "metadata": {
  "kernelspec": {
   "display_name": "Python 3 (ipykernel)",
   "language": "python",
   "name": "python3"
  },
  "language_info": {
   "codemirror_mode": {
    "name": "ipython",
    "version": 3
   },
   "file_extension": ".py",
   "mimetype": "text/x-python",
   "name": "python",
   "nbconvert_exporter": "python",
   "pygments_lexer": "ipython3",
   "version": "3.10.8"
  }
 },
 "nbformat": 4,
 "nbformat_minor": 5
}
